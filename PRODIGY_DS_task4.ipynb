{
  "cells": [
    {
      "cell_type": "markdown",
      "id": "0aef5dcf",
      "metadata": {
        "id": "0aef5dcf"
      },
      "source": [
        "# TASK 4: Sentiment Patterns Analysis on Social Media\n"
      ]
    },
    {
      "cell_type": "code",
      "execution_count": null,
      "id": "99fbbf4b",
      "metadata": {
        "id": "99fbbf4b"
      },
      "outputs": [],
      "source": [
        "import pandas as pd\n",
        "\n",
        "tweets_csv = \"/content/twitter_training.csv\"\n",
        "validation_csv = \"/content/twitter_validation.csv\"\n",
        "\n",
        "# Read the CSV files\n",
        "tweets_df = pd.read_csv(tweets_csv, names=[\"id\", \"entity\", \"sentiment\", \"text\"])\n",
        "validation_df = pd.read_csv(validation_csv, names=[\"id\", \"entity\", \"sentiment\", \"text\"])\n",
        "\n"
      ]
    },
    {
      "cell_type": "code",
      "execution_count": null,
      "id": "f1f67b75",
      "metadata": {
        "id": "f1f67b75"
      },
      "outputs": [],
      "source": [
        "tweets_df.dropna(inplace=True)\n",
        "tweets_df.drop_duplicates(inplace=True)\n"
      ]
    },
    {
      "cell_type": "code",
      "execution_count": null,
      "id": "62afa157",
      "metadata": {
        "id": "62afa157"
      },
      "outputs": [],
      "source": [
        "from textblob import TextBlob\n",
        "\n",
        "def get_sentiment(text):\n",
        "    analysis = TextBlob(text)\n",
        "    if analysis.sentiment.polarity > 0:\n",
        "        return 'Positive'\n",
        "    elif analysis.sentiment.polarity == 0:\n",
        "        return 'Neutral'\n",
        "    else:\n",
        "        return 'Negative'\n",
        "\n",
        "tweets_df['computed_sentiment'] = tweets_df['text'].apply(get_sentiment)\n"
      ]
    },
    {
      "cell_type": "code",
      "execution_count": null,
      "id": "99512a72",
      "metadata": {
        "id": "99512a72"
      },
      "outputs": [],
      "source": [
        "import matplotlib.pyplot as plt\n",
        "import seaborn as sns\n",
        "\n",
        "plt.figure(figsize=(10, 6))\n",
        "sns.countplot(x='sentiment', data=tweets_df)\n",
        "plt.title('Sentiment Distribution')\n",
        "plt.show()\n"
      ]
    },
    {
      "cell_type": "code",
      "execution_count": null,
      "id": "1609cda8",
      "metadata": {
        "id": "1609cda8"
      },
      "outputs": [],
      "source": [
        "validation_df['computed_sentiment'] = validation_df['text'].apply(get_sentiment)\n",
        "accuracy = sum(validation_df['sentiment'] == validation_df['computed_sentiment']) / len(validation_df)\n",
        "print(f'Validation Accuracy: {accuracy}')\n"
      ]
    }
  ],
  "metadata": {
    "kernelspec": {
      "display_name": "Python 3 (ipykernel)",
      "language": "python",
      "name": "python3"
    },
    "language_info": {
      "codemirror_mode": {
        "name": "ipython",
        "version": 3
      },
      "file_extension": ".py",
      "mimetype": "text/x-python",
      "name": "python",
      "nbconvert_exporter": "python",
      "pygments_lexer": "ipython3",
      "version": "3.11.4"
    },
    "colab": {
      "provenance": []
    }
  },
  "nbformat": 4,
  "nbformat_minor": 5
}